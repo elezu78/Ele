{
 "cells": [
  {
   "cell_type": "markdown",
   "metadata": {},
   "source": [
    "<center>\n",
    "<img src=\"../../img/ods_stickers.jpg\">\n",
    "    \n",
    "## [mlcourse.ai](https://mlcourse.ai) - Open Machine Learning Course\n",
    "\n",
    "Author: [Yury Kashnitsky](https://www.linkedin.com/in/festline/). Translated and edited by [Sergey Isaev](https://www.linkedin.com/in/isvforall/), [Artem Trunov](https://www.linkedin.com/in/datamove/), [Anastasia Manokhina](https://www.linkedin.com/in/anastasiamanokhina/), and [Yuanyuan Pao](https://www.linkedin.com/in/yuanyuanpao/). All content is distributed under the [Creative Commons CC BY-NC-SA 4.0](https://creativecommons.org/licenses/by-nc-sa/4.0/) license."
   ]
  },
  {
   "cell_type": "markdown",
   "metadata": {},
   "source": [
    "**In this task you should use Pandas to answer a few questions about the [Adult](https://archive.ics.uci.edu/ml/datasets/Adult) dataset. (You don't have to download the data – it's already  in the repository)**"
   ]
  },
  {
   "cell_type": "markdown",
   "metadata": {},
   "source": [
    "Unique values of all features (for more information, please see the links above):\n",
    "- `age`: continuous.\n",
    "- `workclass`: Private, Self-emp-not-inc, Self-emp-inc, Federal-gov, Local-gov, State-gov, Without-pay, Never-worked.\n",
    "- `fnlwgt`: continuous.\n",
    "- `education`: Bachelors, Some-college, 11th, HS-grad, Prof-school, Assoc-acdm, Assoc-voc, 9th, 7th-8th, 12th, Masters, 1st-4th, 10th, Doctorate, 5th-6th, Preschool.\n",
    "- `education-num`: continuous.\n",
    "- `marital-status`: Married-civ-spouse, Divorced, Never-married, Separated, Widowed, Married-spouse-absent, Married-AF-spouse.\n",
    "- `occupation`: Tech-support, Craft-repair, Other-service, Sales, Exec-managerial, Prof-specialty, Handlers-cleaners, Machine-op-inspct, Adm-clerical, Farming-fishing, Transport-moving, Priv-house-serv, Protective-serv, Armed-Forces.\n",
    "- `relationship`: Wife, Own-child, Husband, Not-in-family, Other-relative, Unmarried.\n",
    "- `race`: White, Asian-Pac-Islander, Amer-Indian-Eskimo, Other, Black.\n",
    "- `sex`: Female, Male.\n",
    "- `capital-gain`: continuous.\n",
    "- `capital-loss`: continuous.\n",
    "- `hours-per-week`: continuous.\n",
    "- `native-country`: United-States, Cambodia, England, Puerto-Rico, Canada, Germany, Outlying-US(Guam-USVI-etc), India, Japan, Greece, South, China, Cuba, Iran, Honduras, Philippines, Italy, Poland, Jamaica, Vietnam, Mexico, Portugal, Ireland, France, Dominican-Republic, Laos, Ecuador, Taiwan, Haiti, Columbia, Hungary, Guatemala, Nicaragua, Scotland, Thailand, Yugoslavia, El-Salvador, Trinadad&Tobago, Peru, Hong, Holand-Netherlands.   \n",
    "- `salary`: >50K,<=50K"
   ]
  },
  {
   "cell_type": "code",
   "execution_count": 1,
   "metadata": {
    "ExecuteTime": {
     "end_time": "2020-02-26T19:15:19.285921Z",
     "start_time": "2020-02-26T19:15:18.073149Z"
    }
   },
   "outputs": [],
   "source": [
    "import numpy as np\n",
    "import pandas as pd\n",
    "pd.set_option('display.max.columns', 100)\n",
    "# to draw pictures in jupyter notebook\n",
    "%matplotlib inline \n",
    "import matplotlib.pyplot as plt\n",
    "import seaborn as sns\n",
    "# we don't like warnings\n",
    "# you can comment the following 2 lines if you'd like to\n",
    "import warnings\n",
    "warnings.filterwarnings('ignore')"
   ]
  },
  {
   "cell_type": "code",
   "execution_count": 2,
   "metadata": {},
   "outputs": [
    {
     "data": {
      "text/html": [
       "<div>\n",
       "<style scoped>\n",
       "    .dataframe tbody tr th:only-of-type {\n",
       "        vertical-align: middle;\n",
       "    }\n",
       "\n",
       "    .dataframe tbody tr th {\n",
       "        vertical-align: top;\n",
       "    }\n",
       "\n",
       "    .dataframe thead th {\n",
       "        text-align: right;\n",
       "    }\n",
       "</style>\n",
       "<table border=\"1\" class=\"dataframe\">\n",
       "  <thead>\n",
       "    <tr style=\"text-align: right;\">\n",
       "      <th></th>\n",
       "      <th>age</th>\n",
       "      <th>workclass</th>\n",
       "      <th>fnlwgt</th>\n",
       "      <th>education</th>\n",
       "      <th>education-num</th>\n",
       "      <th>marital-status</th>\n",
       "      <th>occupation</th>\n",
       "      <th>relationship</th>\n",
       "      <th>race</th>\n",
       "      <th>sex</th>\n",
       "      <th>capital-gain</th>\n",
       "      <th>capital-loss</th>\n",
       "      <th>hours-per-week</th>\n",
       "      <th>native-country</th>\n",
       "      <th>salary</th>\n",
       "    </tr>\n",
       "  </thead>\n",
       "  <tbody>\n",
       "    <tr>\n",
       "      <td>0</td>\n",
       "      <td>39</td>\n",
       "      <td>State-gov</td>\n",
       "      <td>77516</td>\n",
       "      <td>Bachelors</td>\n",
       "      <td>13</td>\n",
       "      <td>Never-married</td>\n",
       "      <td>Adm-clerical</td>\n",
       "      <td>Not-in-family</td>\n",
       "      <td>White</td>\n",
       "      <td>Male</td>\n",
       "      <td>2174</td>\n",
       "      <td>0</td>\n",
       "      <td>40</td>\n",
       "      <td>United-States</td>\n",
       "      <td>&lt;=50K</td>\n",
       "    </tr>\n",
       "    <tr>\n",
       "      <td>1</td>\n",
       "      <td>50</td>\n",
       "      <td>Self-emp-not-inc</td>\n",
       "      <td>83311</td>\n",
       "      <td>Bachelors</td>\n",
       "      <td>13</td>\n",
       "      <td>Married-civ-spouse</td>\n",
       "      <td>Exec-managerial</td>\n",
       "      <td>Husband</td>\n",
       "      <td>White</td>\n",
       "      <td>Male</td>\n",
       "      <td>0</td>\n",
       "      <td>0</td>\n",
       "      <td>13</td>\n",
       "      <td>United-States</td>\n",
       "      <td>&lt;=50K</td>\n",
       "    </tr>\n",
       "    <tr>\n",
       "      <td>2</td>\n",
       "      <td>38</td>\n",
       "      <td>Private</td>\n",
       "      <td>215646</td>\n",
       "      <td>HS-grad</td>\n",
       "      <td>9</td>\n",
       "      <td>Divorced</td>\n",
       "      <td>Handlers-cleaners</td>\n",
       "      <td>Not-in-family</td>\n",
       "      <td>White</td>\n",
       "      <td>Male</td>\n",
       "      <td>0</td>\n",
       "      <td>0</td>\n",
       "      <td>40</td>\n",
       "      <td>United-States</td>\n",
       "      <td>&lt;=50K</td>\n",
       "    </tr>\n",
       "    <tr>\n",
       "      <td>3</td>\n",
       "      <td>53</td>\n",
       "      <td>Private</td>\n",
       "      <td>234721</td>\n",
       "      <td>11th</td>\n",
       "      <td>7</td>\n",
       "      <td>Married-civ-spouse</td>\n",
       "      <td>Handlers-cleaners</td>\n",
       "      <td>Husband</td>\n",
       "      <td>Black</td>\n",
       "      <td>Male</td>\n",
       "      <td>0</td>\n",
       "      <td>0</td>\n",
       "      <td>40</td>\n",
       "      <td>United-States</td>\n",
       "      <td>&lt;=50K</td>\n",
       "    </tr>\n",
       "    <tr>\n",
       "      <td>4</td>\n",
       "      <td>28</td>\n",
       "      <td>Private</td>\n",
       "      <td>338409</td>\n",
       "      <td>Bachelors</td>\n",
       "      <td>13</td>\n",
       "      <td>Married-civ-spouse</td>\n",
       "      <td>Prof-specialty</td>\n",
       "      <td>Wife</td>\n",
       "      <td>Black</td>\n",
       "      <td>Female</td>\n",
       "      <td>0</td>\n",
       "      <td>0</td>\n",
       "      <td>40</td>\n",
       "      <td>Cuba</td>\n",
       "      <td>&lt;=50K</td>\n",
       "    </tr>\n",
       "  </tbody>\n",
       "</table>\n",
       "</div>"
      ],
      "text/plain": [
       "   age         workclass  fnlwgt  education  education-num  \\\n",
       "0   39         State-gov   77516  Bachelors             13   \n",
       "1   50  Self-emp-not-inc   83311  Bachelors             13   \n",
       "2   38           Private  215646    HS-grad              9   \n",
       "3   53           Private  234721       11th              7   \n",
       "4   28           Private  338409  Bachelors             13   \n",
       "\n",
       "       marital-status         occupation   relationship   race     sex  \\\n",
       "0       Never-married       Adm-clerical  Not-in-family  White    Male   \n",
       "1  Married-civ-spouse    Exec-managerial        Husband  White    Male   \n",
       "2            Divorced  Handlers-cleaners  Not-in-family  White    Male   \n",
       "3  Married-civ-spouse  Handlers-cleaners        Husband  Black    Male   \n",
       "4  Married-civ-spouse     Prof-specialty           Wife  Black  Female   \n",
       "\n",
       "   capital-gain  capital-loss  hours-per-week native-country salary  \n",
       "0          2174             0              40  United-States  <=50K  \n",
       "1             0             0              13  United-States  <=50K  \n",
       "2             0             0              40  United-States  <=50K  \n",
       "3             0             0              40  United-States  <=50K  \n",
       "4             0             0              40           Cuba  <=50K  "
      ]
     },
     "execution_count": 2,
     "metadata": {},
     "output_type": "execute_result"
    }
   ],
   "source": [
    "data = pd.read_csv('../../data/adult.data.csv')\n",
    "data.head()"
   ]
  },
  {
   "cell_type": "markdown",
   "metadata": {},
   "source": [
    "**1. How many men and women (*sex* feature) are represented in this dataset?** "
   ]
  },
  {
   "cell_type": "code",
   "execution_count": 3,
   "metadata": {},
   "outputs": [
    {
     "data": {
      "text/plain": [
       "sex\n",
       "Female    10771\n",
       "Male      21790\n",
       "dtype: int64"
      ]
     },
     "execution_count": 3,
     "metadata": {},
     "output_type": "execute_result"
    }
   ],
   "source": [
    "data.groupby('sex').size()"
   ]
  },
  {
   "cell_type": "markdown",
   "metadata": {},
   "source": [
    "**2. What is the average age (*age* feature) of women?**"
   ]
  },
  {
   "cell_type": "code",
   "execution_count": 6,
   "metadata": {},
   "outputs": [
    {
     "data": {
      "text/plain": [
       "36.85823043357163"
      ]
     },
     "execution_count": 6,
     "metadata": {},
     "output_type": "execute_result"
    }
   ],
   "source": [
    "data[data[\"sex\"]=='Female'].age.mean()"
   ]
  },
  {
   "cell_type": "markdown",
   "metadata": {},
   "source": [
    "**3. What is the percentage of German citizens (*native-country* feature)?**"
   ]
  },
  {
   "cell_type": "code",
   "execution_count": 7,
   "metadata": {},
   "outputs": [
    {
     "name": "stdout",
     "output_type": "stream",
     "text": [
      "T =  32561\n",
      "G =  137\n",
      "The percentage of German citizens is  0.421 %\n"
     ]
    }
   ],
   "source": [
    "T=data[\"native-country\"].count()\n",
    "print (\"T = \",T)\n",
    "G= ((data['native-country'])=='Germany').sum()\n",
    "print(\"G = \", G)\n",
    "\n",
    "per= round((G/T)*100,3)\n",
    "print(\"The percentage of German citizens is \", per,\"%\")"
   ]
  },
  {
   "cell_type": "markdown",
   "metadata": {},
   "source": [
    "**4-5. What are the mean and standard deviation of age for those who earn more than 50K per year (*salary* feature) and those who earn less than 50K per year? **"
   ]
  },
  {
   "cell_type": "code",
   "execution_count": 9,
   "metadata": {},
   "outputs": [
    {
     "name": "stdout",
     "output_type": "stream",
     "text": [
      "The meand and standard deviation of age for those who ear >50k per year are 44.25 & 10.519\n",
      "The meand and standard deviation of age for those who ear <=50k per year are 36.784 & 14.02\n"
     ]
    }
   ],
   "source": [
    "import statistics \n",
    "M1=round(data[data[\"salary\"]=='>50K'].age.mean(),3)\n",
    "SD1= round(statistics.stdev(data[data[\"salary\"]=='>50K'].age),3)\n",
    "print(\"The meand and standard deviation of age for those who ear >50k per year are\",M1,\"&\",SD1)\n",
    "M2=round(data[data[\"salary\"]=='<=50K'].age.mean(),3)\n",
    "SD2= round(statistics.stdev(data[data[\"salary\"]=='<=50K'].age),3)\n",
    "print(\"The meand and standard deviation of age for those who ear <=50k per year are\",M2,\"&\",SD2)"
   ]
  },
  {
   "cell_type": "markdown",
   "metadata": {},
   "source": [
    "**6. Is it true that people who earn more than 50K have at least high school education? (*education – Bachelors, Prof-school, Assoc-acdm, Assoc-voc, Masters* or *Doctorate* feature)**"
   ]
  },
  {
   "cell_type": "code",
   "execution_count": 11,
   "metadata": {},
   "outputs": [
    {
     "name": "stdout",
     "output_type": "stream",
     "text": [
      "7841\n",
      "7597\n",
      "It is False\n"
     ]
    }
   ],
   "source": [
    "df1=data[['education','salary']]\n",
    "df3=df1.loc[df1['salary'] == '>50K']\n",
    "s= len(df3.index)\n",
    "print(s)\n",
    "df4=df3.loc[df3['education'].isin(['Masters','Bachelors','Assoc-acdm','Prof-school','Assoc-voc','HS-grad','Doctorate','Some-college'])]\n",
    "e = len(df4.index)\n",
    "print (e)\n",
    "if s==e:\n",
    "    print (\"It is true\")\n",
    "else:\n",
    "    print(\"It is False\")\n"
   ]
  },
  {
   "cell_type": "markdown",
   "metadata": {},
   "source": [
    "**7. Display age statistics for each race (*race* feature) and each gender (*sex* feature). Use *groupby()* and *describe()*. Find the maximum age of men of *Amer-Indian-Eskimo* race.**"
   ]
  },
  {
   "cell_type": "code",
   "execution_count": 16,
   "metadata": {},
   "outputs": [
    {
     "name": "stdout",
     "output_type": "stream",
     "text": [
      "                               age                                          \\\n",
      "                             count       mean        std   min   25%   50%   \n",
      "race               sex                                                       \n",
      "Amer-Indian-Eskimo Female    119.0  37.117647  13.114991  17.0  27.0  36.0   \n",
      "                   Male      192.0  37.208333  12.049563  17.0  28.0  35.0   \n",
      "Asian-Pac-Islander Female    346.0  35.089595  12.300845  17.0  25.0  33.0   \n",
      "                   Male      693.0  39.073593  12.883944  18.0  29.0  37.0   \n",
      "Black              Female   1555.0  37.854019  12.637197  17.0  28.0  37.0   \n",
      "                   Male     1569.0  37.682600  12.882612  17.0  27.0  36.0   \n",
      "Other              Female    109.0  31.678899  11.631599  17.0  23.0  29.0   \n",
      "                   Male      162.0  34.654321  11.355531  17.0  26.0  32.0   \n",
      "White              Female   8642.0  36.811618  14.329093  17.0  25.0  35.0   \n",
      "                   Male    19174.0  39.652498  13.436029  17.0  29.0  38.0   \n",
      "\n",
      "                                         fnlwgt                                \\\n",
      "                             75%   max    count           mean            std   \n",
      "race               sex                                                          \n",
      "Amer-Indian-Eskimo Female  46.00  80.0    119.0  112950.731092   93207.974077   \n",
      "                   Male    45.00  82.0    192.0  125715.364583   85063.251595   \n",
      "Asian-Pac-Islander Female  43.75  75.0    346.0  147452.075145   76401.627757   \n",
      "                   Male    46.00  90.0    693.0  166175.865801   88552.952600   \n",
      "Black              Female  46.00  90.0   1555.0  212971.387781  109971.263983   \n",
      "                   Male    46.00  90.0   1569.0  242920.644997  134145.970948   \n",
      "Other              Female  39.00  74.0    109.0  172519.642202   77766.666801   \n",
      "                   Male    42.00  77.0    162.0  213679.104938   92187.362738   \n",
      "White              Female  46.00  90.0   8642.0  183549.966906  101710.294874   \n",
      "                   Male    49.00  90.0  19174.0  188987.386148  103714.598850   \n",
      "\n",
      "                                                                               \\\n",
      "                               min        25%       50%        75%        max   \n",
      "race               sex                                                          \n",
      "Amer-Indian-Eskimo Female  12285.0   31387.00   87950.0  163027.50   445168.0   \n",
      "                   Male    13769.0   48197.75  113091.0  182656.00   356015.0   \n",
      "Asian-Pac-Islander Female  19914.0   86879.25  131986.0  175705.75   379046.0   \n",
      "                   Male    14878.0   98350.00  147719.0  200117.00   506329.0   \n",
      "Black              Female  19752.0  142666.50  193553.0  253759.00   930948.0   \n",
      "                   Male    21856.0  156410.00  221196.0  298601.00  1268339.0   \n",
      "Other              Female  24562.0  119890.00  171199.0  219441.00   388741.0   \n",
      "                   Male    25610.0  150726.75  208516.5  253334.75   481175.0   \n",
      "White              Female  19395.0  115914.75  175810.5  224836.50  1484705.0   \n",
      "                   Male    18827.0  117381.00  178662.5  236858.75  1455435.0   \n",
      "\n",
      "                          education-num                                       \\\n",
      "                                  count       mean       std  min  25%   50%   \n",
      "race               sex                                                         \n",
      "Amer-Indian-Eskimo Female         119.0   9.697479  2.334540  2.0  9.0  10.0   \n",
      "                   Male           192.0   9.072917  2.268587  2.0  9.0   9.0   \n",
      "Asian-Pac-Islander Female         346.0  10.390173  2.796647  1.0  9.0  10.0   \n",
      "                   Male           693.0  11.245310  2.777463  1.0  9.0  11.0   \n",
      "Black              Female        1555.0   9.549839  2.207815  1.0  9.0   9.0   \n",
      "                   Male          1569.0   9.423199  2.382841  1.0  9.0   9.0   \n",
      "Other              Female         109.0   8.899083  3.027482  2.0  7.0   9.0   \n",
      "                   Male           162.0   8.802469  3.361897  1.0  8.0   9.0   \n",
      "White              Female        8642.0  10.127980  2.368115  1.0  9.0  10.0   \n",
      "                   Male         19174.0  10.138521  2.656464  1.0  9.0  10.0   \n",
      "\n",
      "                                      capital-gain                             \\\n",
      "                            75%   max        count         mean           std   \n",
      "race               sex                                                          \n",
      "Amer-Indian-Eskimo Female  11.0  16.0        119.0   544.605042   2451.591587   \n",
      "                   Male    10.0  16.0        192.0   675.260417   2929.745443   \n",
      "Asian-Pac-Islander Female  13.0  15.0        346.0   778.436416   7675.228631   \n",
      "                   Male    13.0  16.0        693.0  1827.813853  10947.525528   \n",
      "Black              Female  10.0  16.0       1555.0   516.593569   5312.749129   \n",
      "                   Male    10.0  16.0       1569.0   702.454430   4962.113183   \n",
      "Other              Female  10.0  14.0        109.0   254.669725   1317.326460   \n",
      "                   Male    10.0  16.0        162.0  1392.185185  11093.711595   \n",
      "White              Female  12.0  16.0       8642.0   573.610391   4763.131649   \n",
      "                   Male    13.0  16.0      19174.0  1368.674455   8442.830669   \n",
      "\n",
      "                                                       capital-loss  \\\n",
      "                           min  25%  50%  75%      max        count   \n",
      "race               sex                                                \n",
      "Amer-Indian-Eskimo Female  0.0  0.0  0.0  0.0  15024.0        119.0   \n",
      "                   Male    0.0  0.0  0.0  0.0  27828.0        192.0   \n",
      "Asian-Pac-Islander Female  0.0  0.0  0.0  0.0  99999.0        346.0   \n",
      "                   Male    0.0  0.0  0.0  0.0  99999.0        693.0   \n",
      "Black              Female  0.0  0.0  0.0  0.0  99999.0       1555.0   \n",
      "                   Male    0.0  0.0  0.0  0.0  99999.0       1569.0   \n",
      "Other              Female  0.0  0.0  0.0  0.0   7688.0        109.0   \n",
      "                   Male    0.0  0.0  0.0  0.0  99999.0        162.0   \n",
      "White              Female  0.0  0.0  0.0  0.0  99999.0       8642.0   \n",
      "                   Male    0.0  0.0  0.0  0.0  99999.0      19174.0   \n",
      "\n",
      "                                                                               \\\n",
      "                                 mean         std  min  25%  50%  75%     max   \n",
      "race               sex                                                          \n",
      "Amer-Indian-Eskimo Female   14.462185  157.763811  0.0  0.0  0.0  0.0  1721.0   \n",
      "                   Male     46.395833  286.562584  0.0  0.0  0.0  0.0  1980.0   \n",
      "Asian-Pac-Islander Female   50.852601  296.529225  0.0  0.0  0.0  0.0  2258.0   \n",
      "                   Male    120.373737  472.917697  0.0  0.0  0.0  0.0  2457.0   \n",
      "Black              Female   45.450804  299.099591  0.0  0.0  0.0  0.0  4356.0   \n",
      "                   Male     75.186106  370.976546  0.0  0.0  0.0  0.0  2824.0   \n",
      "Other              Female   36.284404  231.796929  0.0  0.0  0.0  0.0  1740.0   \n",
      "                   Male     77.746914  370.986720  0.0  0.0  0.0  0.0  2179.0   \n",
      "White              Female   65.390535  352.330817  0.0  0.0  0.0  0.0  4356.0   \n",
      "                   Male    102.261343  434.156936  0.0  0.0  0.0  0.0  3770.0   \n",
      "\n",
      "                          hours-per-week                                   \\\n",
      "                                   count       mean        std  min   25%   \n",
      "race               sex                                                      \n",
      "Amer-Indian-Eskimo Female          119.0  36.579832  11.046509  4.0  35.0   \n",
      "                   Male            192.0  42.197917  11.596280  3.0  40.0   \n",
      "Asian-Pac-Islander Female          346.0  37.439306  12.479459  1.0  35.0   \n",
      "                   Male            693.0  41.468975  12.387563  1.0  40.0   \n",
      "Black              Female         1555.0  36.834084   9.419960  2.0  35.0   \n",
      "                   Male           1569.0  39.997451  10.909413  1.0  40.0   \n",
      "Other              Female          109.0  35.926606  10.300761  6.0  30.0   \n",
      "                   Male            162.0  41.851852  11.084779  5.0  40.0   \n",
      "White              Female         8642.0  36.296691  12.190951  1.0  30.0   \n",
      "                   Male          19174.0  42.668822  12.194633  1.0  40.0   \n",
      "\n",
      "                                             \n",
      "                            50%   75%   max  \n",
      "race               sex                       \n",
      "Amer-Indian-Eskimo Female  40.0  40.0  84.0  \n",
      "                   Male    40.0  45.0  84.0  \n",
      "Asian-Pac-Islander Female  40.0  40.0  99.0  \n",
      "                   Male    40.0  45.0  99.0  \n",
      "Black              Female  40.0  40.0  99.0  \n",
      "                   Male    40.0  40.0  99.0  \n",
      "Other              Female  40.0  40.0  65.0  \n",
      "                   Male    40.0  40.0  98.0  \n",
      "White              Female  40.0  40.0  99.0  \n",
      "                   Male    40.0  50.0  99.0  \n"
     ]
    },
    {
     "data": {
      "text/plain": [
       "82"
      ]
     },
     "execution_count": 16,
     "metadata": {},
     "output_type": "execute_result"
    }
   ],
   "source": [
    "print (data.groupby(['race','sex']).describe())\n",
    "data[data[\"race\"] == \"Amer-Indian-Eskimo\"][\"age\"].max()"
   ]
  },
  {
   "cell_type": "markdown",
   "metadata": {},
   "source": [
    "**8. Among whom is the proportion of those who earn a lot (>50K) greater: married or single men (*marital-status* feature)? Consider as married those who have a *marital-status* starting with *Married* (Married-civ-spouse, Married-spouse-absent or Married-AF-spouse), the rest are considered bachelors.**"
   ]
  },
  {
   "cell_type": "code",
   "execution_count": 17,
   "metadata": {},
   "outputs": [
    {
     "name": "stdout",
     "output_type": "stream",
     "text": [
      "Propotion of Single men is more\n"
     ]
    }
   ],
   "source": [
    "T=data[\"marital-status\"].count()\n",
    "df5=data.loc[df1['salary'] == ' >50K']\n",
    "M= df5.loc[df5['marital-status'].isin(['Married-AF-spouse','Married-civ-spouse','Married-spouse-absent'])].shape[0]\n",
    "if (T-M> M):\n",
    "    print(\"Propotion of Single men is more\")\n",
    "else:\n",
    "    print(\"Propotion is Married is more\")"
   ]
  },
  {
   "cell_type": "markdown",
   "metadata": {},
   "source": [
    "**9. What is the maximum number of hours a person works per week (*hours-per-week* feature)? How many people work such a number of hours, and what is the percentage of those who earn a lot (>50K) among them?**"
   ]
  },
  {
   "cell_type": "code",
   "execution_count": 19,
   "metadata": {},
   "outputs": [
    {
     "name": "stdout",
     "output_type": "stream",
     "text": [
      "The maximum number of hours a person works per week:  99\n",
      "People who work such a number of hours: 85\n",
      "The percentage of those who earn a lot (>50K) among them: 29.41 %\n"
     ]
    }
   ],
   "source": [
    "hrs = data['hours-per-week'].max()\n",
    "print(\"The maximum number of hours a person works per week: \",hrs)\n",
    "num= data[data[\"hours-per-week\"] ==hrs].shape[0]\n",
    "print(\"People who work such a number of hours:\", num)\n",
    "df6=data[data[\"hours-per-week\"] ==hrs]\n",
    "df7=df6.loc[df6['salary'] == '>50K'].shape[0]\n",
    "print(\"The percentage of those who earn a lot (>50K) among them:\", round((df7/num)*100,2),\"%\")"
   ]
  },
  {
   "cell_type": "markdown",
   "metadata": {},
   "source": [
    "**10. Count the average time of work (*hours-per-week*) for those who earn a little and a lot (*salary*) for each country (*native-country*). What will these be for Japan?**"
   ]
  },
  {
   "cell_type": "code",
   "execution_count": 21,
   "metadata": {},
   "outputs": [
    {
     "name": "stdout",
     "output_type": "stream",
     "text": [
      " the average time of work (hours-per-week) for those who earn a little and a lot (salary) for each country:\n",
      " native-country  salary\n",
      "?               <=50K     40.164760\n",
      "                >50K      45.547945\n",
      "Cambodia        <=50K     41.416667\n",
      "                >50K      40.000000\n",
      "Canada          <=50K     37.914634\n",
      "                            ...    \n",
      "United-States   >50K      45.505369\n",
      "Vietnam         <=50K     37.193548\n",
      "                >50K      39.200000\n",
      "Yugoslavia      <=50K     41.600000\n",
      "                >50K      49.500000\n",
      "Name: hours-per-week, Length: 82, dtype: float64\n",
      "Only Japan is displayed below:\n",
      " salary\n",
      "<=50K    41.000000\n",
      ">50K     47.958333\n",
      "Name: hours-per-week, dtype: float64\n"
     ]
    }
   ],
   "source": [
    "df9=data.groupby(by=[\"native-country\", \"salary\"])[\"hours-per-week\"].mean()\n",
    "print (\" the average time of work (hours-per-week) for those who earn a little and a lot (salary) for each country:\\n\",df9)\n",
    "df10=data.groupby(by=[\"native-country\", \"salary\"])[\"hours-per-week\"].mean()['Japan']\n",
    "print(\"Only Japan is displayed below:\\n\",df10)"
   ]
  },
  {
   "cell_type": "code",
   "execution_count": null,
   "metadata": {},
   "outputs": [],
   "source": []
  }
 ],
 "metadata": {
  "anaconda-cloud": {},
  "hide_input": false,
  "kernelspec": {
   "display_name": "Python 3",
   "language": "python",
   "name": "python3"
  },
  "language_info": {
   "codemirror_mode": {
    "name": "ipython",
    "version": 3
   },
   "file_extension": ".py",
   "mimetype": "text/x-python",
   "name": "python",
   "nbconvert_exporter": "python",
   "pygments_lexer": "ipython3",
   "version": "3.7.4"
  },
  "toc": {
   "base_numbering": 1,
   "nav_menu": {},
   "number_sections": true,
   "sideBar": true,
   "skip_h1_title": false,
   "title_cell": "Table of Contents",
   "title_sidebar": "Contents",
   "toc_cell": false,
   "toc_position": {},
   "toc_section_display": true,
   "toc_window_display": false
  },
  "varInspector": {
   "cols": {
    "lenName": 16,
    "lenType": 16,
    "lenVar": 40
   },
   "kernels_config": {
    "python": {
     "delete_cmd_postfix": "",
     "delete_cmd_prefix": "del ",
     "library": "var_list.py",
     "varRefreshCmd": "print(var_dic_list())"
    },
    "r": {
     "delete_cmd_postfix": ") ",
     "delete_cmd_prefix": "rm(",
     "library": "var_list.r",
     "varRefreshCmd": "cat(var_dic_list()) "
    }
   },
   "types_to_exclude": [
    "module",
    "function",
    "builtin_function_or_method",
    "instance",
    "_Feature"
   ],
   "window_display": false
  }
 },
 "nbformat": 4,
 "nbformat_minor": 1
}
